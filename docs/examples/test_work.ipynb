{
 "cells": [
  {
   "cell_type": "code",
   "execution_count": null,
   "id": "0",
   "metadata": {},
   "outputs": [],
   "source": [
    "import pandas as pd\n",
    "import geopandas as gpd\n",
    "import geemap as gm\n",
    "import os\n",
    "import json\n",
    "import geojson\n",
    "import requests"
   ]
  },
  {
   "cell_type": "code",
   "execution_count": null,
   "id": "1",
   "metadata": {},
   "outputs": [],
   "source": [
    "import ee\n",
    "\n",
    "ee.Authenticate()\n",
    "ee.Initialize(project=\"ee-forestplotvariables\")"
   ]
  },
  {
   "cell_type": "code",
   "execution_count": null,
   "id": "2",
   "metadata": {},
   "outputs": [],
   "source": [
    "import ipywidgets as widgets\n",
    "\n",
    "start_date = widgets.DatePicker(description=\"Start Date\", disabled=False)\n",
    "start_date"
   ]
  },
  {
   "cell_type": "code",
   "execution_count": null,
   "id": "3",
   "metadata": {},
   "outputs": [],
   "source": [
    "end_date = widgets.DatePicker(description=\"Start Date\", disabled=False)\n",
    "end_date"
   ]
  },
  {
   "cell_type": "code",
   "execution_count": null,
   "id": "4",
   "metadata": {},
   "outputs": [],
   "source": [
    "date = str(end_date.value)\n",
    "type(date)\n",
    "print(date)"
   ]
  },
  {
   "cell_type": "code",
   "execution_count": null,
   "id": "5",
   "metadata": {},
   "outputs": [],
   "source": [
    "dataset_id = f\"USGS/3DEP/10m\"\n",
    "dataset = ee.ImageCollection(dataset_id)\n",
    "if isinstance(dataset_id, ee.Image):\n",
    "    print(\"This is an Image\")\n",
    "elif isinstance(dataset_id, ee.ImageCollection):\n",
    "    print(\"This is an ImageCollection\")\n",
    "else:\n",
    "    print(\"Unknown type\")"
   ]
  },
  {
   "cell_type": "code",
   "execution_count": null,
   "id": "6",
   "metadata": {},
   "outputs": [],
   "source": [
    "dataset_id = f\"IDAHO_EPSCOR/TERRACLIMATE\"\n",
    "dataset = ee.ImageCollection(dataset_id)\n",
    "m = gm.Map()\n",
    "m.set_center(-122.503881, 37.765588, 18)\n",
    "m.add_layer(dataset, {\"bands\": [\"tmmn\", \"tmmx\", \"pr\"], \"min\": -800, \"max\": 800}, \"img\")\n",
    "# display(m)"
   ]
  },
  {
   "cell_type": "code",
   "execution_count": null,
   "id": "7",
   "metadata": {},
   "outputs": [],
   "source": [
    "path = \"../data/5000.0.geojson\"\n",
    "# data = gpd.read_file(path)\n",
    "with open(path, \"r\") as file:\n",
    "    data = geojson.load(file)\n",
    "dataset_id = f\"IDAHO_EPSCOR/TERRACLIMATE\"\n",
    "start_date = None\n",
    "end_date = None\n",
    "\n",
    "out_dir = os.path.join(os.path.expanduser(\"~\"), \"Downloads\")\n",
    "output_file = f\"test.csv\"\n",
    "out_path = os.path.join(out_dir, output_file)\n",
    "\n",
    "# Convert GeoDataFrame to GeoJSON dictionary (to feed into Earth Engine)\n",
    "geojson_object = gm.geojson_to_ee(data)\n",
    "\n",
    "url = \"https://raw.githubusercontent.com/opengeos/geospatial-data-catalogs/master/gee_catalog.json\"\n",
    "response = requests.get(url)\n",
    "response.raise_for_status()  # Raises an exception for HTTP errors\n",
    "geojson_data = response.json()\n",
    "\n",
    "data_type = [item[\"type\"] for item in geojson_data if item[\"id\"] == dataset_id]\n",
    "data_str = \" \".join(data_type)\n",
    "\n",
    "if data_str == \"image\":\n",
    "    img = ee.Image(dataset_id)\n",
    "\n",
    "results = img.sampleRegions(collection=geojson_object, geometries=True, scale=10)\n",
    "\n",
    "results = results.aggregate_stats(\"\").getInfo()"
   ]
  },
  {
   "cell_type": "code",
   "execution_count": null,
   "id": "8",
   "metadata": {},
   "outputs": [],
   "source": [
    "path = \"../data/10.0.geojson\"\n",
    "# data = geojson.load(file)\n",
    "with open(path, \"r\") as file:\n",
    "    data = geojson.load(file)\n",
    "dataset_id = f\"IDAHO_EPSCOR/TERRACLIMATE\"\n",
    "start_date = None\n",
    "end_date = None\n",
    "\n",
    "out_dir = os.path.join(os.path.expanduser(\"~\"), \"Downloads\")\n",
    "output_file = f\"test.csv\"\n",
    "out_path = os.path.join(out_dir, output_file)\n",
    "\n",
    "# Convert GeoDataFrame to GeoJSON dictionary (to feed into Earth Engine)\n",
    "geojson_object = gm.geojson_to_ee(data)\n",
    "\n",
    "url = \"https://raw.githubusercontent.com/opengeos/geospatial-data-catalogs/master/gee_catalog.json\"\n",
    "response = requests.get(url)\n",
    "response.raise_for_status()  # Raises an exception for HTTP errors\n",
    "geojson_data = response.json()\n",
    "\n",
    "data_type = [item[\"type\"] for item in geojson_data if item[\"id\"] == dataset_id]\n",
    "data_str = \" \".join(data_type)\n",
    "\n",
    "if data_str == \"image\":\n",
    "    img = ee.Image(dataset_id)\n",
    "    median_values = img.reduceRegion(\n",
    "        reducer=ee.Reducer.median(),  # median pixel value of each band within the polygon region\n",
    "        geometry=geojson_object,  # your ee.Geometry polygon\n",
    "        scale=30,  # suitable for your image\n",
    "        maxPixels=1e9,\n",
    "    ).getInfo()\n",
    "\n",
    "    feature = ee.Feature(geojson_object, median_values)\n",
    "    fc = ee.FeatureCollection([feature])\n",
    "    gm.ee_to_csv(fc, filename=out_path)\n",
    "\n",
    "\n",
    "elif data_str == \"image_collection\":\n",
    "    col = ee.ImageCollection(dataset_id)\n",
    "    if start_date and end_date:\n",
    "        col = col.filterDate(start_date, end_date)\n",
    "    else:\n",
    "        pass\n",
    "    col = col.filterBounds(geojson_object)\n",
    "    # Reduce to median image\n",
    "    median_image = col.reduce(ee.Reducer.median())\n",
    "    median_values = median_image.reduceRegion(\n",
    "        reducer=ee.Reducer.mean(),  # average pixel value of the median image within polygon\n",
    "        geometry=geojson_object.geometry(),  # or .geometry() if FeatureCollection\n",
    "        scale=30,  # set scale appropriate to data\n",
    "        maxPixels=1e9,\n",
    "    )  # .getInfo()\n",
    "\n",
    "    # feature = ee.Feature(geojson_object, median_values)\n",
    "    # fc = ee.FeatureCollection([feature])\n",
    "    # gm.ee_to_csv(fc, filename=out_path)\n",
    "\n",
    "    task = ee.batch.Export.table.toDrive(\n",
    "        collection=median_values,\n",
    "        description=\"median_band_export\",\n",
    "        folder=\"ee-demo\",\n",
    "        fileFormat=\"GeoJSON\",\n",
    "        selectors=\".geo\",\n",
    "    )\n",
    "task.start()\n",
    "\n",
    "# Try loading as FeatureCollection (convert to raster mask)\n",
    "# else:\n",
    "#     print(\"Selected dataset is not an image or image collection, and could not be processed.\")"
   ]
  },
  {
   "cell_type": "code",
   "execution_count": null,
   "id": "9",
   "metadata": {},
   "outputs": [],
   "source": [
    "print(fc)"
   ]
  },
  {
   "cell_type": "code",
   "execution_count": null,
   "id": "10",
   "metadata": {},
   "outputs": [],
   "source": [
    "print(type(results))\n",
    "pd.DataFrame.from_dict(results, orient=\"index\")"
   ]
  }
 ],
 "metadata": {
  "kernelspec": {
   "display_name": "geo",
   "language": "python",
   "name": "python3"
  },
  "language_info": {
   "codemirror_mode": {
    "name": "ipython",
    "version": 3
   },
   "file_extension": ".py",
   "mimetype": "text/x-python",
   "name": "python",
   "nbconvert_exporter": "python",
   "pygments_lexer": "ipython3",
   "version": "3.12.8"
  }
 },
 "nbformat": 4,
 "nbformat_minor": 5
}
