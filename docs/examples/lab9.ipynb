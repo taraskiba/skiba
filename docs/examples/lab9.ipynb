{
 "cells": [
  {
   "cell_type": "markdown",
   "id": "0",
   "metadata": {},
   "source": [
    "\"[![Open In Colab](https://colab.research.google.com/assets/colab-badge.svg)](https://colab.research.google.com/github/taraskiba/skiba/blob/main/docs/examples/lab9.ipynb)\""
   ]
  },
  {
   "cell_type": "code",
   "execution_count": null,
   "id": "1",
   "metadata": {},
   "outputs": [],
   "source": [
    "import leafmap\n",
    "from ipyleaflet import Map, SearchControl, Marker, AwesomeIcon"
   ]
  },
  {
   "cell_type": "markdown",
   "id": "2",
   "metadata": {},
   "source": [
    "### Q1 and Q2"
   ]
  },
  {
   "cell_type": "code",
   "execution_count": null,
   "id": "3",
   "metadata": {},
   "outputs": [],
   "source": [
    "m = leafmap.Map(\n",
    "    center=[40, -100],\n",
    "    zoom=4,\n",
    "    draw_control=False,\n",
    ")\n",
    "m.add_basemap(\"Esri.WorldImagery\")\n",
    "url = \"https://services.terrascope.be/wms/v2?\"\n",
    "m.add_wms_layer(\n",
    "    url=url,\n",
    "    layers=\"WORLDCOVER_2021_MAP\",\n",
    "    name=\"WORLDCOVER_2021_MAP\",\n",
    "    attribution=\"MRLC\",\n",
    "    format=\"image/png\",\n",
    "    shown=True,\n",
    ")\n",
    "m.add_legend(title=\"ESA World Cover 2021 Map\", builtin_legend=\"ESA_WorldCover\")\n",
    "search_url = \"https://nominatim.openstreetmap.org/search?format=json&q={s}\"\n",
    "search_marker = Marker(\n",
    "    icon=AwesomeIcon(name=\"search\", marker_color=\"blue\", icon_color=\"white\")\n",
    ")\n",
    "m.add_search_control(url, zoom=10, marker=search_marker, position=\"topleft\")\n",
    "m.add_layer_control()\n",
    "m"
   ]
  },
  {
   "cell_type": "code",
   "execution_count": null,
   "id": "4",
   "metadata": {},
   "outputs": [],
   "source": []
  },
  {
   "cell_type": "markdown",
   "id": "5",
   "metadata": {},
   "source": [
    "### Q3"
   ]
  },
  {
   "cell_type": "code",
   "execution_count": null,
   "id": "6",
   "metadata": {},
   "outputs": [],
   "source": [
    "import pandas as pd\n",
    "import geopandas as gpd"
   ]
  },
  {
   "cell_type": "code",
   "execution_count": null,
   "id": "7",
   "metadata": {},
   "outputs": [],
   "source": [
    "file_path = \"https://github.com/opengeos/datasets/releases/download/places/wa_building_centroids.geojson\"\n",
    "\n",
    "gdf = gpd.read_file(file_path)\n",
    "gdf[\"longitude\"] = gdf.geometry.x\n",
    "gdf[\"latitude\"] = gdf.geometry.y\n",
    "\n",
    "m2 = leafmap.Map(\n",
    "    center=[40, -100],\n",
    "    zoom=4,\n",
    "    draw_control=False,\n",
    ")\n",
    "\n",
    "m2.add_marker_cluster(\n",
    "    data=gdf, x=\"longitude\", y=\"latitude\", layer_name=\"Building Clusters\"\n",
    ")\n",
    "\n",
    "m2.add_circle_markers_from_xy(\n",
    "    file_path,\n",
    "    x=\"longitude\",\n",
    "    y=\"latitude\",\n",
    "    radius=5,\n",
    "    color=\"red\",\n",
    "    fill_color=\"yellow\",\n",
    "    fill_opacity=0.8,\n",
    "    name=\"WA Building Centroids\",\n",
    ")\n",
    "m2.add_layer_control()\n",
    "m2"
   ]
  },
  {
   "cell_type": "code",
   "execution_count": null,
   "id": "8",
   "metadata": {},
   "outputs": [],
   "source": [
    "gdf.explore()"
   ]
  },
  {
   "cell_type": "markdown",
   "id": "9",
   "metadata": {},
   "source": [
    "### Q4"
   ]
  },
  {
   "cell_type": "code",
   "execution_count": null,
   "id": "10",
   "metadata": {},
   "outputs": [],
   "source": [
    "building_overture = gpd.read_file(\n",
    "    \"https://github.com/opengeos/datasets/releases/download/places/wa_overture_buildings.geojson\"\n",
    ")\n",
    "building_overture.explore()"
   ]
  },
  {
   "cell_type": "code",
   "execution_count": null,
   "id": "11",
   "metadata": {},
   "outputs": [],
   "source": [
    "building_overture = gpd.read_file(\n",
    "    \"https://github.com/opengeos/datasets/releases/download/places/wa_overture_buildings.geojson\"\n",
    ")\n",
    "\n",
    "m3 = leafmap.Map(\n",
    "    center=[40, -100],\n",
    "    zoom=4,\n",
    "    draw_control=False,\n",
    ")\n",
    "style = {\"color\": \"red\", \"weight\": 2}\n",
    "m3.add_gdf(\n",
    "    building_overture, style=style, layer_name=\"Las Vegas Buildings\", zoom_to_layer=True\n",
    ")\n",
    "m3"
   ]
  },
  {
   "cell_type": "code",
   "execution_count": null,
   "id": "12",
   "metadata": {},
   "outputs": [],
   "source": [
    "las_vegas = gpd.read_file(\n",
    "    \"https://github.com/opengeos/datasets/releases/download/places/las_vegas_roads.geojson\"\n",
    ")\n",
    "\n",
    "m4 = leafmap.Map(\n",
    "    center=[40, -100],\n",
    "    zoom=4,\n",
    "    draw_control=False,\n",
    ")\n",
    "style = {\"color\": \"red\", \"weight\": 2}\n",
    "m4.add_gdf(las_vegas, style=style, layer_name=\"Las Vegas Buildings\", zoom_to_layer=True)\n",
    "m4"
   ]
  },
  {
   "cell_type": "code",
   "execution_count": null,
   "id": "13",
   "metadata": {},
   "outputs": [],
   "source": [
    "cloropleth = (\n",
    "    \"https://github.com/opengeos/datasets/releases/download/us/us_counties.geojson\"\n",
    ")\n",
    "cloropleth.explore"
   ]
  },
  {
   "cell_type": "code",
   "execution_count": null,
   "id": "14",
   "metadata": {},
   "outputs": [],
   "source": [
    "m5 = leafmap.Map(\n",
    "    center=[40, -100],\n",
    "    zoom=4,\n",
    "    draw_control=False,\n",
    ")\n",
    "m5.add_data(\n",
    "    cloropleth,\n",
    "    column=\"POP_EST\",\n",
    "    scheme=\"Quantiles\",\n",
    "    cmap=\"Blues\",\n",
    "    legend_title=\"Population\",\n",
    ")"
   ]
  }
 ],
 "metadata": {
  "kernelspec": {
   "display_name": "geo",
   "language": "python",
   "name": "python3"
  },
  "language_info": {
   "codemirror_mode": {
    "name": "ipython",
    "version": 3
   },
   "file_extension": ".py",
   "mimetype": "text/x-python",
   "name": "python",
   "nbconvert_exporter": "python",
   "pygments_lexer": "ipython3",
   "version": "3.12.8"
  }
 },
 "nbformat": 4,
 "nbformat_minor": 5
}
