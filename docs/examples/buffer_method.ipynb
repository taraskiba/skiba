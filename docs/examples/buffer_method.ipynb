{
 "cells": [
  {
   "cell_type": "code",
   "execution_count": null,
   "id": "0",
   "metadata": {},
   "outputs": [],
   "source": [
    "import ee\n",
    "import geemap as gm\n",
    "import pandas as pd\n",
    "import geopandas as gpd\n",
    "from shapely.geometry import Point\n",
    "import os\n",
    "\n",
    "# Initialize Earth Engine\n",
    "ee.Authenticate()\n",
    "ee.Initialize()"
   ]
  },
  {
   "cell_type": "code",
   "execution_count": null,
   "id": "1",
   "metadata": {},
   "outputs": [],
   "source": [
    "import skiba.buffer_method as bm"
   ]
  },
  {
   "cell_type": "code",
   "execution_count": null,
   "id": "2",
   "metadata": {},
   "outputs": [],
   "source": [
    "m = bm.buffer_method().vbox\n",
    "m"
   ]
  },
  {
   "cell_type": "code",
   "execution_count": null,
   "id": "3",
   "metadata": {},
   "outputs": [],
   "source": [
    "def create_buffers(data, radius_meters, output_shp):\n",
    "    if isinstance(data, str):\n",
    "        coordinates = pd.read_csv(data)\n",
    "        gdf = gpd.GeoDataFrame(\n",
    "            coordinates,\n",
    "            geometry=gpd.points_from_xy(coordinates.LON, coordinates.LAT),\n",
    "            crs=\"EPSG:4326\",  # Directly set CRS during creation\n",
    "        )\n",
    "    elif isinstance(data, pd.DataFrame):\n",
    "        coordinates = data\n",
    "        gdf = gpd.GeoDataFrame(\n",
    "            coordinates,\n",
    "            geometry=gpd.points_from_xy(coordinates.LON, coordinates.LAT),\n",
    "            crs=\"EPSG:4326\",  # Directly set CRS during creation\n",
    "        )\n",
    "    else:\n",
    "        gdf = data.to_crs(epsg=4326)  # Ensure WGS84\n",
    "\n",
    "    # Convert to UTM for accurate buffering\n",
    "    utm_crs = gdf.estimate_utm_crs()\n",
    "    buffered = gdf.to_crs(utm_crs).buffer(radius_meters).to_crs(\"EPSG:4326\")\n",
    "\n",
    "    # Save buffers as shapefile\n",
    "    buffer_gdf = gpd.GeoDataFrame(geometry=buffered)\n",
    "    buffer_gdf.to_file(output_shp)\n",
    "    return buffer_gdf\n",
    "\n",
    "\n",
    "file_path = \"../data/selected_coordinates.csv\"\n",
    "buffer = 1000\n",
    "out_dir = os.path.join(os.path.expanduser(\"~\"), \"Downloads\")\n",
    "output_file = f\"{buffer}.shp\"\n",
    "out_path = os.path.join(out_dir, output_file)\n",
    "shapefile = create_buffers(file_path, buffer, out_path)\n",
    "\n",
    "\n",
    "# 2. Extract median values from GEE\n",
    "def extract_median_values(buffer_shp, output_csv, scale=500):\n",
    "    # Load buffers\n",
    "    fc = gm.shp_to_ee(buffer_shp)\n",
    "\n",
    "    # Example dataset (replace with your own)\n",
    "    geeimage = buffer_method.load_gee_as_image(geedata, start_date, end_date)\n",
    "\n",
    "    name = geedata\n",
    "    file_name = name.replace(\"/\", \"_\")\n",
    "\n",
    "    out_dir = os.path.join(os.path.expanduser(\"~\"), \"Downloads\")\n",
    "    output_file = f\"{file_name}.csv\"\n",
    "    out_path = os.path.join(out_dir, output_file)\n",
    "\n",
    "    # Extract values\n",
    "    gm.extract_values_to_points(fc, median_img, output_csv, scale=scale)"
   ]
  },
  {
   "cell_type": "code",
   "execution_count": null,
   "id": "4",
   "metadata": {},
   "outputs": [],
   "source": []
  },
  {
   "cell_type": "code",
   "execution_count": null,
   "id": "5",
   "metadata": {},
   "outputs": [],
   "source": []
  },
  {
   "cell_type": "code",
   "execution_count": null,
   "id": "6",
   "metadata": {},
   "outputs": [],
   "source": [
    "import skiba.map as map\n",
    "\n",
    "map = map.Map()\n",
    "map\n",
    "shapefile_path = \"../data/1000.shp\"\n",
    "map.add_shp(shapefile_path)"
   ]
  }
 ],
 "metadata": {
  "kernelspec": {
   "display_name": "geo",
   "language": "python",
   "name": "python3"
  },
  "language_info": {
   "codemirror_mode": {
    "name": "ipython",
    "version": 3
   },
   "file_extension": ".py",
   "mimetype": "text/x-python",
   "name": "python",
   "nbconvert_exporter": "python",
   "pygments_lexer": "ipython3",
   "version": "3.12.8"
  }
 },
 "nbformat": 4,
 "nbformat_minor": 5
}
