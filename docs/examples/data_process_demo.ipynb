{
 "cells": [
  {
   "cell_type": "code",
   "execution_count": null,
   "id": "0",
   "metadata": {},
   "outputs": [],
   "source": [
    "import skiba.data_process as sdp\n",
    "import ipywidgets as widgets\n",
    "import geopandas as gpd\n",
    "import requests\n",
    "import json"
   ]
  },
  {
   "cell_type": "code",
   "execution_count": null,
   "id": "1",
   "metadata": {},
   "outputs": [],
   "source": [
    "url = (\n",
    "    \"https://github.com/opengeos/geospatial-data-catalogs/blob/master/gee_catalog.json\"\n",
    ")"
   ]
  },
  {
   "cell_type": "code",
   "execution_count": null,
   "id": "2",
   "metadata": {},
   "outputs": [],
   "source": [
    "# def fetch_geojson(url):\n",
    "#     try:\n",
    "#         response = requests.get(url)\n",
    "#         response.raise_for_status()  # Raises an exception for HTTP errors\n",
    "#         geojson_data = response.json()  # Parse the JSON response\n",
    "#         return geojson_data\n",
    "#     except requests.exceptions.HTTPError as http_err:\n",
    "#         print(f\"HTTP error occurred: {http_err}\")\n",
    "#     except requests.exceptions.ConnectionError as conn_err:\n",
    "#         print(f\"Error connecting to the server: {conn_err}\")\n",
    "#     except Exception as err:\n",
    "#         print(f\"An error occurred: {err}\")\n",
    "#     return None\n",
    "\n",
    "# geojson_data = fetch_geojson(url)\n",
    "\n",
    "\n",
    "data = \"../data/gee_catalog.json\"\n",
    "with open(data, \"r\") as file:\n",
    "    data = json.load(file)\n",
    "\n",
    "data_dict = {item[\"title\"]: item[\"id\"] for item in data if \"title\" in item}\n",
    "\n",
    "# Step 4: Create the dropdown\n",
    "dropdown = widgets.Dropdown(\n",
    "    options=data_dict,  # keys shown, values returned\n",
    "    description=\"Dataset:\",\n",
    "    disabled=False,\n",
    ")\n",
    "\n",
    "display(dropdown)"
   ]
  },
  {
   "cell_type": "code",
   "execution_count": null,
   "id": "3",
   "metadata": {},
   "outputs": [],
   "source": []
  },
  {
   "cell_type": "code",
   "execution_count": null,
   "id": "4",
   "metadata": {},
   "outputs": [],
   "source": [
    "dropdown.value"
   ]
  },
  {
   "cell_type": "code",
   "execution_count": null,
   "id": "5",
   "metadata": {},
   "outputs": [],
   "source": [
    "points = \"../data/fuzzy_coordinates\""
   ]
  },
  {
   "cell_type": "code",
   "execution_count": null,
   "id": "6",
   "metadata": {},
   "outputs": [],
   "source": [
    "m = sdp.data_process\n",
    "dropdown_widget = m.create_dropdown()\n",
    "dropdown_widget"
   ]
  },
  {
   "cell_type": "code",
   "execution_count": null,
   "id": "7",
   "metadata": {},
   "outputs": [],
   "source": [
    "dropdown_widget.value"
   ]
  },
  {
   "cell_type": "code",
   "execution_count": null,
   "id": "8",
   "metadata": {},
   "outputs": [],
   "source": [
    "sdp.create"
   ]
  }
 ],
 "metadata": {
  "kernelspec": {
   "display_name": "geo",
   "language": "python",
   "name": "python3"
  },
  "language_info": {
   "codemirror_mode": {
    "name": "ipython",
    "version": 3
   },
   "file_extension": ".py",
   "mimetype": "text/x-python",
   "name": "python",
   "nbconvert_exporter": "python",
   "pygments_lexer": "ipython3",
   "version": "3.12.8"
  }
 },
 "nbformat": 4,
 "nbformat_minor": 5
}
