{
 "cells": [
  {
   "cell_type": "markdown",
   "id": "0",
   "metadata": {},
   "source": [
    "# Import packages"
   ]
  },
  {
   "cell_type": "code",
   "execution_count": null,
   "id": "1",
   "metadata": {},
   "outputs": [],
   "source": [
    "import skiba.data_process as sdp\n",
    "import ipywidgets as widgets\n",
    "import geopandas as gpd\n",
    "import geemap as gm\n",
    "import requests\n",
    "import json\n",
    "import os"
   ]
  },
  {
   "cell_type": "markdown",
   "id": "2",
   "metadata": {},
   "source": [
    "# Select GEE data set"
   ]
  },
  {
   "cell_type": "code",
   "execution_count": null,
   "id": "3",
   "metadata": {},
   "outputs": [],
   "source": [
    "m = sdp.data_process\n",
    "dropdown_widget = m.create_dropdown()\n",
    "dropdown_widget"
   ]
  },
  {
   "cell_type": "code",
   "execution_count": null,
   "id": "4",
   "metadata": {},
   "outputs": [],
   "source": [
    "import ee\n",
    "\n",
    "ee.Initialize()\n",
    "ee.Authenticate()"
   ]
  },
  {
   "cell_type": "markdown",
   "id": "5",
   "metadata": {},
   "source": [
    "# Add start and end dates (optional)\n",
    "## Start date"
   ]
  },
  {
   "cell_type": "code",
   "execution_count": null,
   "id": "6",
   "metadata": {},
   "outputs": [],
   "source": [
    "m1 = sdp.data_process\n",
    "start = m1.add_date_picker()\n",
    "start"
   ]
  },
  {
   "cell_type": "markdown",
   "id": "7",
   "metadata": {},
   "source": [
    "## End date"
   ]
  },
  {
   "cell_type": "code",
   "execution_count": null,
   "id": "8",
   "metadata": {},
   "outputs": [],
   "source": [
    "end = m1.add_date_picker()\n",
    "end"
   ]
  },
  {
   "cell_type": "markdown",
   "id": "9",
   "metadata": {},
   "source": [
    "# Add dataset of coordinate points"
   ]
  },
  {
   "cell_type": "code",
   "execution_count": null,
   "id": "10",
   "metadata": {},
   "outputs": [],
   "source": [
    "points = \"../data/selected_coordinates.csv\"\n",
    "geedata = dropdown_widget.value\n",
    "end_date = end.value\n",
    "start_date = start.value"
   ]
  },
  {
   "cell_type": "markdown",
   "id": "11",
   "metadata": {},
   "source": [
    "## Extract values from GEE bands for provided coordinates. \n",
    "Will return as a csv file in ~/Downloads under the Earth Engine Snippet name."
   ]
  },
  {
   "cell_type": "code",
   "execution_count": null,
   "id": "12",
   "metadata": {},
   "outputs": [],
   "source": [
    "final = sdp.data_process\n",
    "returned_dataset = final.get_coordinate_data(\n",
    "    data=points, geedata=geedata, start_date=start_date, end_date=end_date\n",
    ")"
   ]
  },
  {
   "cell_type": "markdown",
   "id": "13",
   "metadata": {},
   "source": [
    "### Extra testing"
   ]
  },
  {
   "cell_type": "code",
   "execution_count": null,
   "id": "14",
   "metadata": {},
   "outputs": [],
   "source": [
    "url = (\n",
    "    \"https://github.com/opengeos/geospatial-data-catalogs/blob/master/gee_catalog.json\"\n",
    ")"
   ]
  },
  {
   "cell_type": "code",
   "execution_count": null,
   "id": "15",
   "metadata": {},
   "outputs": [],
   "source": [
    "# def fetch_geojson(url):\n",
    "#     try:\n",
    "#         response = requests.get(url)\n",
    "#         response.raise_for_status()  # Raises an exception for HTTP errors\n",
    "#         geojson_data = response.json()  # Parse the JSON response\n",
    "#         return geojson_data\n",
    "#     except requests.exceptions.HTTPError as http_err:\n",
    "#         print(f\"HTTP error occurred: {http_err}\")\n",
    "#     except requests.exceptions.ConnectionError as conn_err:\n",
    "#         print(f\"Error connecting to the server: {conn_err}\")\n",
    "#     except Exception as err:\n",
    "#         print(f\"An error occurred: {err}\")\n",
    "#     return None\n",
    "\n",
    "# geojson_data = fetch_geojson(url)"
   ]
  }
 ],
 "metadata": {
  "kernelspec": {
   "display_name": "geo",
   "language": "python",
   "name": "python3"
  },
  "language_info": {
   "codemirror_mode": {
    "name": "ipython",
    "version": 3
   },
   "file_extension": ".py",
   "mimetype": "text/x-python",
   "name": "python",
   "nbconvert_exporter": "python",
   "pygments_lexer": "ipython3",
   "version": "3.12.8"
  }
 },
 "nbformat": 4,
 "nbformat_minor": 5
}
