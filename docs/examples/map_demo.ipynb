{
 "cells": [
  {
   "cell_type": "code",
   "execution_count": null,
   "metadata": {},
   "outputs": [],
   "source": [
    "import skiba.ipyleafletcode as sm"
   ]
  },
  {
   "cell_type": "code",
   "execution_count": null,
   "metadata": {},
   "outputs": [],
   "source": [
    "sm.Map"
   ]
  },
  {
   "cell_type": "code",
   "execution_count": null,
   "metadata": {},
   "outputs": [],
   "source": [
    "m = sm.Map(center=(0, 0), zoom=2, scroll_wheel_zoom=True)\n",
    "url = \"https://data.fs.usda.gov/geodata/rastergateway/downloadMap.php?mapID=354508215&mapType=tif\"\n",
    "# m.add_raster(\"HMA_DM_6H_v01_DEMe_1km.tif\")\n",
    "m.add_raster(url)\n",
    "m"
   ]
  },
  {
   "cell_type": "code",
   "execution_count": null,
   "metadata": {},
   "outputs": [],
   "source": [
    "m2 = sm.Map(center=(0, 0), zoom=2, scroll_wheel_zoom=True)\n",
    "url2 = \"https://media.giphy.com/media/NvNyuTD794sIIPntaw/giphy.gif\"\n",
    "m2.add_image(url2, bounds=[[25, 50], [40, 20]], opacity=0.5)\n",
    "m2"
   ]
  },
  {
   "cell_type": "code",
   "execution_count": null,
   "metadata": {},
   "outputs": [],
   "source": [
    "m3 = sm.Map(center=(0, 0), zoom=2, scroll_wheel_zoom=True)\n",
    "url3 = \"https://www.mapbox.com/bites/00188/patricia_nasa.webm\"\n",
    "m3.add_video(url3, bounds=[[13, -130], [32, -100]], opacity=1)\n",
    "m3"
   ]
  },
  {
   "cell_type": "code",
   "execution_count": null,
   "metadata": {},
   "outputs": [],
   "source": [
    "m4 = sm.Map(center=(38.491, -95.712), zoom=4, scroll_wheel_zoom=True)\n",
    "url4 = \"http://mesonet.agron.iastate.edu/cgi-bin/wms/nexrad/n0r.cgi\"\n",
    "m4.add_wms_layer(url4, layers=\"nexrad-n0r-900913\")\n",
    "m4"
   ]
  },
  {
   "cell_type": "code",
   "execution_count": null,
   "metadata": {},
   "outputs": [],
   "source": [
    "m4 = sm.Map(center=(38.491, -95.712), zoom=4, scroll_wheel_zoom=True)\n",
    "url4 = \"https://imagery.nationalmap.gov/arcgis/services/USGSNAIPPlus/ImageServer/WMSServer?\"\n",
    "m4.add_wms_layer(url4, layers=\"USGSNAIPPlus\", format=\"image/png\", transparent=True)\n",
    "m4"
   ]
  }
 ],
 "metadata": {
  "kernelspec": {
   "display_name": "Python 3 (ipykernel)",
   "language": "python",
   "name": "python3"
  },
  "language_info": {
   "codemirror_mode": {
    "name": "ipython",
    "version": 3
   },
   "file_extension": ".py",
   "mimetype": "text/x-python",
   "name": "python",
   "nbconvert_exporter": "python",
   "pygments_lexer": "ipython3",
   "version": "3.12.8"
  }
 },
 "nbformat": 4,
 "nbformat_minor": 4
}
