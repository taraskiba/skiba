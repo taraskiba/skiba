{
 "cells": [
  {
   "cell_type": "code",
   "execution_count": null,
   "metadata": {},
   "outputs": [],
   "source": [
    "import skiba.map_details as skibamap\n",
    "\n",
    "skibamap.Map\n",
    "m = skibamap.Map()\n",
    "m.add_basemap(\"Esri.WorldImagery\")\n",
    "# url = \"https://github.com/opengeos/datasets/releases/download/vector/hike.geojson\"\n",
    "m.add_geojson(\"us-states.json\", name=\"US States\")\n",
    "m.add_widgets()\n",
    "m"
   ]
  }
 ],
 "metadata": {
  "kernelspec": {
   "display_name": "geo",
   "language": "python",
   "name": "python3"
  },
  "language_info": {
   "codemirror_mode": {
    "name": "ipython",
    "version": 3
   },
   "file_extension": ".py",
   "mimetype": "text/x-python",
   "name": "python",
   "nbconvert_exporter": "python",
   "pygments_lexer": "ipython3",
   "version": "3.12.8"
  }
 },
 "nbformat": 4,
 "nbformat_minor": 2
}
