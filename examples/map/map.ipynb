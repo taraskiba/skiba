{
 "cells": [
  {
   "cell_type": "markdown",
   "metadata": {},
   "source": [
    "\"[![Open In Colab](https://colab.research.google.com/assets/colab-badge.svg)](https://colab.research.google.com/github/taraskiba/skiba/blob/main/docs/examples/map.ipynb)\""
   ]
  },
  {
   "cell_type": "code",
   "execution_count": null,
   "metadata": {},
   "outputs": [],
   "source": [
    "# !pip install skiba # uncomment if need to install package\n",
    "import skiba.interactive as interactive\n",
    "import skiba.data_process as sdp\n",
    "import ee\n",
    "\n",
    "# Initialize Earth Engine\n",
    "ee.Authenticate()\n",
    "ee.Initialize()"
   ]
  },
  {
   "cell_type": "code",
   "execution_count": null,
   "metadata": {},
   "outputs": [],
   "source": [
    "m = sdp.data_process().vbox\n",
    "m"
   ]
  },
  {
   "cell_type": "code",
   "execution_count": null,
   "metadata": {},
   "outputs": [],
   "source": [
    "map = interactive.Map()\n",
    "map"
   ]
  },
  {
   "cell_type": "code",
   "execution_count": null,
   "metadata": {},
   "outputs": [],
   "source": [
    "import ipywidgets as widgets\n",
    "from IPython.display import display\n",
    "\n",
    "# The widget you want to show/hide\n",
    "my_widget = widgets.Output(layout=widgets.Layout(display=\"none\"))\n",
    "\n",
    "# The toggle button to control visibility\n",
    "toggle = widgets.ToggleButton(value=False, description=\"Show Widget\", icon=\"eye\")\n",
    "\n",
    "\n",
    "def on_toggle_change(change):\n",
    "    if change[\"new\"]:\n",
    "        my_widget.layout.display = \"\"\n",
    "        toggle.description = \"Hide Widget\"\n",
    "        toggle.icon = \"eye-slash\"\n",
    "    else:\n",
    "        my_widget.layout.display = \"none\"\n",
    "        toggle.description = \"Show Widget\"\n",
    "        toggle.icon = \"eye\"\n",
    "\n",
    "\n",
    "toggle.observe(on_toggle_change, names=\"value\")\n",
    "\n",
    "# Populate the widget (example)\n",
    "with my_widget:\n",
    "    print(\"This is the expandable widget content.\")\n",
    "\n",
    "# Display the toggle and the widget\n",
    "display(toggle, my_widget)"
   ]
  }
 ],
 "metadata": {
  "kernelspec": {
   "display_name": "geo",
   "language": "python",
   "name": "python3"
  },
  "language_info": {
   "codemirror_mode": {
    "name": "ipython",
    "version": 3
   },
   "file_extension": ".py",
   "mimetype": "text/x-python",
   "name": "python",
   "nbconvert_exporter": "python",
   "pygments_lexer": "ipython3",
   "version": "3.12.8"
  }
 },
 "nbformat": 4,
 "nbformat_minor": 2
}
