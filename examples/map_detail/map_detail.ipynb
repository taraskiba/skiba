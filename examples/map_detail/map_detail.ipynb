{
 "cells": [
  {
   "cell_type": "markdown",
   "metadata": {},
   "source": [
    "\"[![Open In Colab](https://colab.research.google.com/assets/colab-badge.svg)](https://colab.research.google.com/github/taraskiba/skiba/blob/main/docs/examples/map_detail.ipynb)\""
   ]
  },
  {
   "cell_type": "code",
   "execution_count": null,
   "metadata": {},
   "outputs": [],
   "source": [
    "# !pip install skiba # uncomment if need to install package\n",
    "import skiba.map_detail as skibamap\n",
    "import geopandas as gpd"
   ]
  },
  {
   "cell_type": "code",
   "execution_count": null,
   "metadata": {},
   "outputs": [],
   "source": [
    "# np = \"../data/National_Parks.geojson\"\n",
    "# gdf = gpd.read_file(np)\n",
    "# print(gdf)\n",
    "# gdf.plot(\"NAME\", figsize=(10, 10), cmap=\"Set3\")\n",
    "# type(gdf)"
   ]
  },
  {
   "cell_type": "code",
   "execution_count": null,
   "metadata": {},
   "outputs": [],
   "source": [
    "skibamap.Map"
   ]
  },
  {
   "cell_type": "code",
   "execution_count": null,
   "metadata": {},
   "outputs": [],
   "source": [
    "m = skibamap.Map()\n",
    "m.add_basemap(\"Esri.WorldImagery\")\n",
    "m.add_layer_control()\n",
    "m.add_geojson(\"../data/us-states.json\", name=\"US States\")\n",
    "# m.add_geojson(\"../data/National_Parks.geojson\", name=\"National Parks\")\n",
    "# m.add_widgets()\n",
    "m.change_basemap()\n",
    "\n",
    "m"
   ]
  },
  {
   "cell_type": "code",
   "execution_count": null,
   "metadata": {},
   "outputs": [],
   "source": [
    "# Using sample data set of FIA plots located in the national forests and parks of southeast Appalachia\n",
    "points = \"../data/selected_coordinates.csv\"\n",
    "m.add_points(points)"
   ]
  },
  {
   "cell_type": "code",
   "execution_count": null,
   "metadata": {},
   "outputs": [],
   "source": [
    "# import geemap\n",
    "# import ee\n",
    "\n",
    "# ee.Authenticate()  # Authenticate the Earth Engine API\n",
    "# ee.Initialize(project=\"ee-forestplotvariables\")\n",
    "# geemap.ee_initialize()"
   ]
  },
  {
   "cell_type": "code",
   "execution_count": null,
   "metadata": {},
   "outputs": [],
   "source": [
    "# map = geemap.Map()\n",
    "# map"
   ]
  }
 ],
 "metadata": {
  "kernelspec": {
   "display_name": "geo",
   "language": "python",
   "name": "python3"
  },
  "language_info": {
   "codemirror_mode": {
    "name": "ipython",
    "version": 3
   },
   "file_extension": ".py",
   "mimetype": "text/x-python",
   "name": "python",
   "nbconvert_exporter": "python",
   "pygments_lexer": "ipython3",
   "version": "3.12.8"
  }
 },
 "nbformat": 4,
 "nbformat_minor": 2
}
