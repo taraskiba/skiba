{
 "cells": [
  {
   "cell_type": "code",
   "execution_count": null,
   "metadata": {},
   "outputs": [],
   "source": [
    "import skiba.map_detail as skibamap\n",
    "import geopandas as gpd"
   ]
  },
  {
   "cell_type": "code",
   "execution_count": null,
   "metadata": {},
   "outputs": [],
   "source": [
    "# np = \"../data/National_Parks.geojson\"\n",
    "# gdf = gpd.read_file(np)\n",
    "# print(gdf)\n",
    "# gdf.plot(\"NAME\", figsize=(10, 10), cmap=\"Set3\")\n",
    "# type(gdf)"
   ]
  },
  {
   "cell_type": "code",
   "execution_count": null,
   "metadata": {},
   "outputs": [],
   "source": []
  },
  {
   "cell_type": "code",
   "execution_count": null,
   "metadata": {},
   "outputs": [],
   "source": [
    "skibamap.Map\n",
    "m = skibamap.Map()\n",
    "m.add_basemap(\"Esri.WorldImagery\")\n",
    "# # url = \"https://github.com/opengeos/datasets/releases/download/vector/hike.geojson\"\n",
    "m.add_geojson(\"../data/us-states.json\", name=\"US States\")\n",
    "# m.add_geojson(\"../data/National_Parks.geojson\", name=\"National Parks\")\n",
    "m.add_widgets()\n",
    "\n",
    "m"
   ]
  },
  {
   "cell_type": "code",
   "execution_count": null,
   "metadata": {},
   "outputs": [],
   "source": [
    "# Using sample data set of FIA plots located in the national forests and parks of southeast Appalachia\n",
    "points = \"../data/selected_coordinates.csv\"\n",
    "m.add_points(points)"
   ]
  }
 ],
 "metadata": {
  "kernelspec": {
   "display_name": "geo",
   "language": "python",
   "name": "python3"
  },
  "language_info": {
   "codemirror_mode": {
    "name": "ipython",
    "version": 3
   },
   "file_extension": ".py",
   "mimetype": "text/x-python",
   "name": "python",
   "nbconvert_exporter": "python",
   "pygments_lexer": "ipython3",
   "version": "3.12.8"
  }
 },
 "nbformat": 4,
 "nbformat_minor": 2
}
